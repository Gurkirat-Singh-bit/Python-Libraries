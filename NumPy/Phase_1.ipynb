{
 "cells": [
  {
   "cell_type": "markdown",
   "metadata": {},
   "source": [
    "\n",
    "---\n",
    "\n",
    "## PHASE I : Introduction to the NumPy array and its basics.\n",
    "\n",
    "NumPy is a fundamental package for scientific computing with Python. It provides support for large multi-dimensional arrays and matrices, along with a collection of mathematical functions to operate on these arrays efficiently.\n",
    "\n",
    "Special thanks to Hitesh Sir and the Chai aur Code YouTube channel for providing such a good NumPy course.\n",
    "\n",
    "---"
   ]
  },
  {
   "cell_type": "markdown",
   "metadata": {},
   "source": [
    "---\n",
    "\n",
    "### Why Use NumPy?\n",
    "\n",
    "NumPy, short for Numerical Python, is a powerful library for numerical computing in Python. It provides support for large multi-dimensional arrays and matrices, along with a collection of mathematical functions to operate on these arrays efficiently. Here are some reasons why we use NumPy:\n",
    "\n",
    "#### Performance\n",
    "NumPy is highly optimized for performance. It is implemented in C and Fortran, which allows it to perform operations much faster than standard Python lists. This is particularly important for large datasets and complex mathematical computations.\n",
    "\n",
    "#### Memory Efficiency\n",
    "NumPy arrays are more memory-efficient than Python lists. They require less memory to store data, which is crucial when working with large datasets.\n",
    "\n",
    "#### Broadcasting\n",
    "NumPy supports broadcasting, a powerful mechanism that allows arithmetic operations to be performed on arrays of different shapes. This feature simplifies code and improves performance by avoiding the need for explicit loops.\n",
    "\n",
    "#### Vectorization\n",
    "NumPy allows for vectorized operations, which means that operations can be applied to entire arrays at once, rather than element by element. This leads to more concise and readable code, and also takes advantage of low-level optimizations.\n",
    "\n",
    "#### Comprehensive Functionality\n",
    "NumPy provides a wide range of mathematical functions, including linear algebra, statistical operations, and random number generation. This makes it a versatile tool for scientific computing.\n",
    "\n",
    "#### Integration with Other Libraries\n",
    "NumPy is the foundation for many other scientific computing libraries in Python, such as SciPy, pandas, and scikit-learn. Its compatibility and integration with these libraries make it an essential tool for data analysis and machine learning.\n",
    "\n",
    "#### Community and Documentation\n",
    "NumPy has a large and active community, which means that it is well-maintained and continuously improved. Additionally, it has extensive documentation and numerous tutorials available, making it accessible for both beginners and experienced users.\n",
    "\n",
    "---"
   ]
  },
  {
   "cell_type": "code",
   "execution_count": 2,
   "metadata": {},
   "outputs": [],
   "source": [
    "import numpy as np\n",
    "import time"
   ]
  },
  {
   "cell_type": "markdown",
   "metadata": {},
   "source": [
    "---\n",
    "### Creating NumPy array :-\n",
    "---"
   ]
  },
  {
   "cell_type": "code",
   "execution_count": 3,
   "metadata": {},
   "outputs": [
    {
     "name": "stdout",
     "output_type": "stream",
     "text": [
      "1D array is [1 2 3 4 5 6 7 8 9]\n",
      "2D array is [[1 2 3 4 5]\n",
      " [5 4 3 2 1]]\n"
     ]
    }
   ],
   "source": [
    "# array is a collection of elements of the same type it can be of multiple dimensions\n",
    "# 1D array is a list of elements also called as vector\n",
    "# 2D array is a list of lists also called as matrix\n",
    "# 3D array is a list of list of lists and so on , more than 2d the formed can be called as tensor\n",
    "\n",
    "arr_1D = np.array([1,2,3,4,5,6,7,8,9])\n",
    "print(f\"1D array is {arr_1D}\")\n",
    "\n",
    "arr_2D = np.array([[1,2,3,4,5],[5,4,3,2,1]])\n",
    "print(f\"2D array is {arr_2D}\")"
   ]
  },
  {
   "cell_type": "markdown",
   "metadata": {},
   "source": [
    "---\n",
    "### List vs Numpy array :-\n",
    "---"
   ]
  },
  {
   "cell_type": "code",
   "execution_count": 4,
   "metadata": {},
   "outputs": [
    {
     "name": "stdout",
     "output_type": "stream",
     "text": [
      "Python list multiplication : [1, 2, 3, 4, 1, 2, 3, 4]\n",
      "Numpy array multiplication : [2 4 6 8]\n",
      "time taken to complete this operation : 0.13720273971557617\n",
      "time taken to complete this operation : 0.09682154655456543\n"
     ]
    }
   ],
   "source": [
    "py_list = [1,2,3,4]\n",
    "print(f\"Python list multiplication : {py_list * 2}\")\n",
    "\n",
    "\n",
    "np_array = np.array([1,2,3,4])\n",
    "print(f\"Numpy array multiplication : {np_array * 2}\")\n",
    "\n",
    "start = time.time()\n",
    "py_list = [i*2 for i in range(1000000)]\n",
    "print(f\"time taken to complete this operation : {time.time()- start}\")\n",
    "\n",
    "start = time.time()\n",
    "np_array = np.arange(1000000) * 2\n",
    "print(f\"time taken to complete this operation : {time.time()- start}\")  # from results numpy is faster than python list"
   ]
  },
  {
   "cell_type": "markdown",
   "metadata": {},
   "source": [
    "---\n",
    "### Creating array from Scratch :-\n",
    "---"
   ]
  },
  {
   "cell_type": "code",
   "execution_count": 5,
   "metadata": {},
   "outputs": [
    {
     "name": "stdout",
     "output_type": "stream",
     "text": [
      "zero array : \n",
      " [[0. 0. 0. 0.]\n",
      " [0. 0. 0. 0.]\n",
      " [0. 0. 0. 0.]\n",
      " [0. 0. 0. 0.]]\n",
      "ones array : \n",
      " [[1. 1. 1. 1.]\n",
      " [1. 1. 1. 1.]\n",
      " [1. 1. 1. 1.]\n",
      " [1. 1. 1. 1.]]\n",
      "full array : \n",
      "  [[4 4 4 4]\n",
      " [4 4 4 4]\n",
      " [4 4 4 4]\n",
      " [4 4 4 4]]\n",
      "random array : \n",
      " [[0.12001402 0.89633495 0.46603549 0.67902307]\n",
      " [0.87127362 0.19113104 0.84561587 0.20729569]\n",
      " [0.91463534 0.30892007 0.88598553 0.02360877]\n",
      " [0.91169586 0.58126265 0.22560175 0.59538291]]\n",
      "sequence array : \n",
      " [0 2 4 6 8]\n"
     ]
    }
   ],
   "source": [
    "zeros = np.zeros((4,4))          # for creating zero array\n",
    "print(\"zero array : \\n\",zeros)\n",
    "\n",
    "\n",
    "ones = np.ones((4,4))            # for creating ones array\n",
    "print(\"ones array : \\n\",ones)\n",
    "\n",
    "\n",
    "full = np.full((4,4), 4)         # for creating full array\n",
    "print(\"full array : \\n \", full)\n",
    "\n",
    "random = np.random.random((4,4)) # for creating random array\n",
    "print(\"random array : \\n\", random)\n",
    "\n",
    "sequence = np.arange(0,10,2)     # for creating sequence array\n",
    "print(\"sequence array : \\n\", sequence)"
   ]
  },
  {
   "cell_type": "markdown",
   "metadata": {},
   "source": [
    "---\n",
    "### Vector, Matrix and tensor :-\n",
    "---"
   ]
  },
  {
   "cell_type": "code",
   "execution_count": 6,
   "metadata": {},
   "outputs": [
    {
     "name": "stdout",
     "output_type": "stream",
     "text": [
      "vector : \n",
      "  [1 2 3 4]\n",
      "matrix : \n",
      " [[1 2 3 4]\n",
      " [5 6 7 8]]\n",
      "tensor : \n",
      " [[[1 2]\n",
      "  [3 4]]\n",
      "\n",
      " [[2 1]\n",
      "  [4 3]]\n",
      "\n",
      " [[5 6]\n",
      "  [6 7]]]\n"
     ]
    }
   ],
   "source": [
    "vector = np.array([1,2,3,4])\n",
    "print(\"vector : \\n \",vector)\n",
    "# vector is a 1D array \n",
    "\n",
    "matrix = np.array([[1,2,3,4],\n",
    "                   [5,6,7,8]])\n",
    "print(\"matrix : \\n\", matrix)\n",
    "# matrix is a 2D array\n",
    "\n",
    "tensor = np.array([[[1,2],[3,4]],[[2,1],[4,3]],[[5,6],[6,7]]])\n",
    "print(\"tensor : \\n\",tensor)\n",
    "# tensor is a array with more than 2 dimensions"
   ]
  },
  {
   "cell_type": "markdown",
   "metadata": {},
   "source": [
    "---\n",
    "### Array properties :-\n",
    "---"
   ]
  },
  {
   "cell_type": "code",
   "execution_count": 7,
   "metadata": {},
   "outputs": [
    {
     "name": "stdout",
     "output_type": "stream",
     "text": [
      "shape :  (3, 4)\n",
      "Dimension :  2\n",
      "size :  12\n",
      "Dtype :  int64\n"
     ]
    }
   ],
   "source": [
    "ny_array = np.array([[1,2,3,4],\n",
    "                     [4,3,2,1],\n",
    "                     [0,0,0,0]])\n",
    "\n",
    "print(\"shape : \",ny_array.shape)      # for getting the shape of the array\n",
    "\n",
    "print(\"Dimension : \",ny_array.ndim)   # for getting the dimension of the array\n",
    "\n",
    "print(\"size : \",ny_array.size)        # for getting the size of the array\n",
    "\n",
    "print(\"Dtype : \",ny_array.dtype)      # for getting the data type of the array\n"
   ]
  },
  {
   "cell_type": "markdown",
   "metadata": {},
   "source": [
    "---\n",
    "### Array reshaping :-\n",
    "---"
   ]
  },
  {
   "cell_type": "code",
   "execution_count": 8,
   "metadata": {},
   "outputs": [
    {
     "name": "stdout",
     "output_type": "stream",
     "text": [
      "Normal array :  [1 2 3 4 5 6 7 8 8 9]\n",
      "reshaped array : \n",
      " [[1 2 3 4 5]\n",
      " [6 7 8 8 9]]\n",
      "flattened array :  [1 2 3 4 5 6 7 8 8 9]\n",
      "raveled array :  [1 2 3 4 5 6 7 8 8 9]\n",
      "transposed array : \n",
      "  [[1 6]\n",
      " [2 7]\n",
      " [3 8]\n",
      " [4 8]\n",
      " [5 9]]\n"
     ]
    }
   ],
   "source": [
    "array = np.array([1,2,3,4,5,6,7,8,8,9])\n",
    "print(\"Normal array : \",array)\n",
    "\n",
    "reshaped = array.reshape((2,5))    # for reshaping the array\n",
    "print(\"reshaped array : \\n\",reshaped)\n",
    "\n",
    "flattened = reshaped.flatten()     # for flattening the array\n",
    "print(\"flattened array : \",flattened)\n",
    "\n",
    "# ravel only  return the view , instead of copy\n",
    "\n",
    "raveled = reshaped.ravel()         # for raveling the array\n",
    "print(\"raveled array : \",raveled)\n",
    "\n",
    "# transpose is used for transposing the array\n",
    "transpose = reshaped.T             # for transposing the array\n",
    "print(\"transposed array : \\n \",transpose)"
   ]
  }
 ],
 "metadata": {
  "kernelspec": {
   "display_name": "venv",
   "language": "python",
   "name": "python3"
  },
  "language_info": {
   "codemirror_mode": {
    "name": "ipython",
    "version": 3
   },
   "file_extension": ".py",
   "mimetype": "text/x-python",
   "name": "python",
   "nbconvert_exporter": "python",
   "pygments_lexer": "ipython3",
   "version": "3.13.2"
  }
 },
 "nbformat": 4,
 "nbformat_minor": 2
}
