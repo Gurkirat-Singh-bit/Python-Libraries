{
 "cells": [
  {
   "cell_type": "markdown",
   "metadata": {},
   "source": [
    "---\n",
    "## Phase III : Advance operation with Business example and more operation with numpy array. \n",
    "---"
   ]
  },
  {
   "cell_type": "code",
   "execution_count": 4,
   "metadata": {},
   "outputs": [],
   "source": [
    "import numpy as np"
   ]
  },
  {
   "cell_type": "markdown",
   "metadata": {},
   "source": [
    "---\n",
    "### Dataset of 10 restaurants with there sales :-\n",
    "---"
   ]
  },
  {
   "cell_type": "code",
   "execution_count": 5,
   "metadata": {},
   "outputs": [
    {
     "name": "stdout",
     "output_type": "stream",
     "text": [
      "===== Sales analysis =====\n",
      "Sales data size(shape):  (10, 5)\n",
      "the Sales data of first 3 restaurants : \n",
      " [[    1 50000 52000 54000 56000]\n",
      " [    2 45000 47000 49000 51000]\n",
      " [    3 40000 42000 44000 46000]]\n"
     ]
    }
   ],
   "source": [
    "\n",
    "# the data in the following format:\n",
    "# sales_data = [restaurant_id, sales_2021, sales_2022, sales_2023, sales_2024]\n",
    "# Using a small portion of actual data from a trusted site\n",
    "# For the sake of this example, let's use hypothetical sales data for well-known restaurants\n",
    "\n",
    "sales_data = np.array([\n",
    "    [1, 50000, 52000, 54000, 56000],  # McDonald's\n",
    "    [2, 45000, 47000, 49000, 51000],  # Starbucks\n",
    "    [3, 40000, 42000, 44000, 46000],  # Subway\n",
    "    [4, 35000, 37000, 39000, 41000],  # Burger King\n",
    "    [5, 30000, 32000, 34000, 36000],  # Wendy's\n",
    "    [6, 25000, 27000, 29000, 31000],  # Taco Bell\n",
    "    [7, 20000, 22000, 24000, 26000],  # Dunkin' Donuts\n",
    "    [8, 15000, 17000, 19000, 21000],  # Pizza Hut\n",
    "    [9, 10000, 12000, 14000, 16000],  # KFC\n",
    "    [10, 5000, 7000, 9000, 11000]     # Domino's\n",
    "])\n",
    "\n",
    "print(\"===== Sales analysis =====\")\n",
    "print(\"Sales data size(shape): \",sales_data.shape)\n",
    "print(\"the Sales data of first 3 restaurants : \\n\", sales_data[:3])\n",
    "# for i in range(3): print(sales_data[i]) instead of this we use slicing\n",
    "\n"
   ]
  },
  {
   "cell_type": "code",
   "execution_count": 6,
   "metadata": {},
   "outputs": [
    {
     "name": "stdout",
     "output_type": "stream",
     "text": [
      "yearly sales : \n",
      " [275000 295000 315000 335000]\n",
      "minimum sales per restaurant : \n",
      " [50000 45000 40000 35000 30000 25000 20000 15000 10000  5000]\n",
      "maximum sales per restaurant: \n",
      " [56000 51000 46000 41000 36000 31000 26000 21000 16000 11000]\n",
      "the average sales of each restaurant :  [53000. 48000. 43000. 38000. 33000. 28000. 23000. 18000. 13000.  8000.]\n",
      "cumalative sales : \n",
      " [[ 50000 102000 156000 212000]\n",
      " [ 45000  92000 141000 192000]\n",
      " [ 40000  82000 126000 172000]\n",
      " [ 35000  72000 111000 152000]\n",
      " [ 30000  62000  96000 132000]\n",
      " [ 25000  52000  81000 112000]\n",
      " [ 20000  42000  66000  92000]\n",
      " [ 15000  32000  51000  72000]\n",
      " [ 10000  22000  36000  52000]\n",
      " [  5000  12000  21000  32000]]\n"
     ]
    }
   ],
   "source": [
    "# total year sales \n",
    "print(\"yearly sales : \\n\", np.sum(sales_data[:, 1:],axis=0))\n",
    "print(\"minimum sales per restaurant : \\n\", np.min(sales_data[:, 1:],axis=1))\n",
    "print(\"maximum sales per restaurant: \\n\", np.max(sales_data[:, 1:],axis=1))\n",
    "\n",
    "# average sales using mean \n",
    "print(\"the average sales of each restaurant : \", np.mean(sales_data[:,1:], axis=1))\n",
    "\n",
    "# cumlative sales of restaurants \n",
    "print(\"cumalative sales : \\n\", np.cumulative_sum(sales_data[:,1:], axis=1))\n",
    "\n"
   ]
  },
  {
   "cell_type": "markdown",
   "metadata": {},
   "source": [
    "---"
   ]
  }
 ],
 "metadata": {
  "kernelspec": {
   "display_name": "venv",
   "language": "python",
   "name": "python3"
  },
  "language_info": {
   "codemirror_mode": {
    "name": "ipython",
    "version": 3
   },
   "file_extension": ".py",
   "mimetype": "text/x-python",
   "name": "python",
   "nbconvert_exporter": "python",
   "pygments_lexer": "ipython3",
   "version": "3.13.2"
  }
 },
 "nbformat": 4,
 "nbformat_minor": 2
}
