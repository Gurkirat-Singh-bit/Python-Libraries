{
 "cells": [
  {
   "cell_type": "markdown",
   "metadata": {},
   "source": [
    "---\n",
    "## Phase III : Advance operation with Business example and more operation with numpy array. \n",
    "---"
   ]
  },
  {
   "cell_type": "markdown",
   "metadata": {},
   "source": [
    "\n",
    "---\n",
    "### Explanation of the Code in this Notebook\n",
    "---\n",
    "\n",
    "#### 1. **Introduction to Advanced Operations**\n",
    "The notebook begins with an introduction to advanced operations using NumPy arrays, focusing on real-world business examples. It sets the stage for performing data analysis and mathematical operations on structured datasets.\n",
    "\n",
    "#### 2. **Dataset of Restaurant Sales**\n",
    "A dataset is created using a NumPy array to represent the yearly sales data of 10 restaurants over four years (2021–2024). Each row corresponds to a restaurant, and the columns represent the restaurant ID and yearly sales.\n",
    "\n",
    "#### 3. **Basic Analysis of Sales Data**\n",
    "- **Shape and Slicing:** The shape of the dataset is printed to understand its dimensions, and slicing is used to extract data for the first three restaurants.\n",
    "- **Yearly Sales:** The total sales for each year across all restaurants are calculated using `np.sum()`.\n",
    "- **Minimum and Maximum Sales:** The minimum and maximum yearly sales for each restaurant are computed using `np.min()` and `np.max()`.\n",
    "- **Average Sales:** The average yearly sales for each restaurant are calculated using `np.mean()`.\n",
    "- **Cumulative Sales:** The cumulative sales for each restaurant over the years are computed using `np.cumsum()`.\n",
    "\n",
    "#### 4. **Additional Vector Operations**\n",
    "- **Vector Arithmetic:** Two vectors are created, and element-wise addition and multiplication are performed.\n",
    "- **Dot Product:** The dot product of the two vectors is calculated.\n",
    "- **Angle Between Vectors:** The angle between the two vectors is computed using the dot product formula and `np.arccos()`.\n",
    "\n",
    "#### 5. **Vectorization and Broadcasting**\n",
    "- A NumPy array of restaurant types is defined.\n",
    "- A vectorized function is created using `np.vectorize()` to convert strings to uppercase, demonstrating the power of vectorization for string operations.\n",
    "\n",
    "#### 6. **Monthly Average Sales**\n",
    "- The monthly average sales for each restaurant are calculated by dividing the yearly sales data by 12. -  This provides insights into the average monthly performance of each restaurant.\n",
    "---\n"
   ]
  },
  {
   "cell_type": "code",
   "execution_count": 2,
   "metadata": {},
   "outputs": [],
   "source": [
    "import numpy as np"
   ]
  },
  {
   "cell_type": "markdown",
   "metadata": {},
   "source": [
    "---\n",
    "### Dataset of 10 restaurants with there sales :-\n",
    "---"
   ]
  },
  {
   "cell_type": "code",
   "execution_count": 3,
   "metadata": {},
   "outputs": [
    {
     "name": "stdout",
     "output_type": "stream",
     "text": [
      "===== Sales analysis =====\n",
      "Sales data size(shape):  (10, 5)\n",
      "the Sales data of first 3 restaurants : \n",
      " [[    1 50000 52000 54000 56000]\n",
      " [    2 45000 47000 49000 51000]\n",
      " [    3 40000 42000 44000 46000]]\n"
     ]
    }
   ],
   "source": [
    "\n",
    "# the data in the following format:\n",
    "# sales_data = [restaurant_id, sales_2021, sales_2022, sales_2023, sales_2024]\n",
    "# Using a small portion of actual data from a trusted site\n",
    "# For the sake of this example, let's use hypothetical sales data for well-known restaurants\n",
    "\n",
    "sales_data = np.array([\n",
    "    [1, 50000, 52000, 54000, 56000],  # McDonald's\n",
    "    [2, 45000, 47000, 49000, 51000],  # Starbucks\n",
    "    [3, 40000, 42000, 44000, 46000],  # Subway\n",
    "    [4, 35000, 37000, 39000, 41000],  # Burger King\n",
    "    [5, 30000, 32000, 34000, 36000],  # Wendy's\n",
    "    [6, 25000, 27000, 29000, 31000],  # Taco Bell\n",
    "    [7, 20000, 22000, 24000, 26000],  # Dunkin' Donuts\n",
    "    [8, 15000, 17000, 19000, 21000],  # Pizza Hut\n",
    "    [9, 10000, 12000, 14000, 16000],  # KFC\n",
    "    [10, 5000, 7000, 9000, 11000]     # Domino's\n",
    "])\n",
    "\n",
    "print(\"===== Sales analysis =====\")\n",
    "print(\"Sales data size(shape): \",sales_data.shape)\n",
    "print(\"the Sales data of first 3 restaurants : \\n\", sales_data[:3])\n",
    "# for i in range(3): print(sales_data[i]) instead of this we use slicing\n",
    "\n"
   ]
  },
  {
   "cell_type": "code",
   "execution_count": 4,
   "metadata": {},
   "outputs": [
    {
     "name": "stdout",
     "output_type": "stream",
     "text": [
      "yearly sales : \n",
      " [275000 295000 315000 335000]\n",
      "minimum sales per restaurant : \n",
      " [50000 45000 40000 35000 30000 25000 20000 15000 10000  5000]\n",
      "maximum sales per restaurant: \n",
      " [56000 51000 46000 41000 36000 31000 26000 21000 16000 11000]\n",
      "the average sales of each restaurant :  [53000. 48000. 43000. 38000. 33000. 28000. 23000. 18000. 13000.  8000.]\n",
      "cumalative sales : \n",
      " [[ 50000 102000 156000 212000]\n",
      " [ 45000  92000 141000 192000]\n",
      " [ 40000  82000 126000 172000]\n",
      " [ 35000  72000 111000 152000]\n",
      " [ 30000  62000  96000 132000]\n",
      " [ 25000  52000  81000 112000]\n",
      " [ 20000  42000  66000  92000]\n",
      " [ 15000  32000  51000  72000]\n",
      " [ 10000  22000  36000  52000]\n",
      " [  5000  12000  21000  32000]]\n"
     ]
    }
   ],
   "source": [
    "# total year sales \n",
    "print(\"yearly sales : \\n\", np.sum(sales_data[:, 1:],axis=0))\n",
    "print(\"minimum sales per restaurant : \\n\", np.min(sales_data[:, 1:],axis=1))\n",
    "print(\"maximum sales per restaurant: \\n\", np.max(sales_data[:, 1:],axis=1))\n",
    "\n",
    "# average sales using mean \n",
    "print(\"the average sales of each restaurant : \", np.mean(sales_data[:,1:], axis=1))\n",
    "\n",
    "# cumlative sales of restaurants \n",
    "print(\"cumalative sales : \\n\", np.cumulative_sum(sales_data[:,1:], axis=1))\n",
    "\n"
   ]
  },
  {
   "cell_type": "markdown",
   "metadata": {},
   "source": [
    "---"
   ]
  },
  {
   "cell_type": "markdown",
   "metadata": {},
   "source": [
    "---\n",
    "## Aditional vector operations\n",
    "---"
   ]
  },
  {
   "cell_type": "code",
   "execution_count": 5,
   "metadata": {},
   "outputs": [
    {
     "name": "stdout",
     "output_type": "stream",
     "text": [
      "\n",
      "Vector addition :  [ 7  9 11 13 15]\n",
      "\n",
      "Vector multiplication :  [ 6 14 24 36 50]\n",
      "\n",
      "Dot product : 130\n",
      "angle is : 0.26554161733900966\n"
     ]
    }
   ],
   "source": [
    "# Create two NumPy arrays representing vectors\n",
    "vector1 = np.array([1,2,3,4,5])\n",
    "vector2 = np.array([6,7,8,9,10])\n",
    "\n",
    "# Element-wise addition of vectors\n",
    "# This adds corresponding elements: [1+6, 2+7, 3+8, 4+9, 5+10]\n",
    "print(\"\\nVector addition : \", vector1+vector2)\n",
    "\n",
    "# Element-wise multiplication of vectors (Hadamard product)\n",
    "# This multiplies corresponding elements: [1*6, 2*7, 3*8, 4*9, 5*10]\n",
    "print(\"\\nVector multiplication : \", vector1*vector2)\n",
    "\n",
    "# Dot product calculation: sum of products of corresponding elements\n",
    "# (1*6 + 2*7 + 3*8 + 4*9 + 5*10)\n",
    "print(\"\\nDot product :\", np.dot(vector1,vector2))\n",
    "\n",
    "# Calculate the angle between two vectors using the dot product formula:\n",
    "# θ = arccos[(v1·v2)/(|v1|*|v2|)]\n",
    "# np.linalg.norm() calculates the magnitude (length) of each vector\n",
    "\n",
    "angle = np.arccos(np.dot(vector1,vector2)/((np.linalg.norm(vector1)*np.linalg.norm(vector2))))\n",
    "print(\"angle is :\",angle)  # Result is in radians"
   ]
  },
  {
   "cell_type": "markdown",
   "metadata": {},
   "source": [
    "---\n",
    "### vectorization and broadcasting\n",
    "---"
   ]
  },
  {
   "cell_type": "code",
   "execution_count": 6,
   "metadata": {},
   "outputs": [
    {
     "name": "stdout",
     "output_type": "stream",
     "text": [
      "Restaurants name in uppercase:  ['BIRYANI' 'CHINESE' 'INDIAN' 'CONTINENTAL']\n"
     ]
    }
   ],
   "source": [
    "# Define an array of restaurant types\n",
    "restaurant_types = np.array(['biryani', 'chinese', 'indian', 'continental'])\n",
    "\n",
    "# Create a vectorized function to convert strings to uppercase\n",
    "vectorized_upper = np.vectorize(str.upper)\n",
    "\n",
    "# Apply the vectorized function to the restaurant types array and print the result\n",
    "print(\"Restaurants name in uppercase: \", vectorized_upper(restaurant_types))\n"
   ]
  },
  {
   "cell_type": "code",
   "execution_count": 7,
   "metadata": {},
   "outputs": [
    {
     "name": "stdout",
     "output_type": "stream",
     "text": [
      "[[4166.66666667 4333.33333333 4500.         4666.66666667]\n",
      " [3750.         3916.66666667 4083.33333333 4250.        ]\n",
      " [3333.33333333 3500.         3666.66666667 3833.33333333]\n",
      " [2916.66666667 3083.33333333 3250.         3416.66666667]\n",
      " [2500.         2666.66666667 2833.33333333 3000.        ]\n",
      " [2083.33333333 2250.         2416.66666667 2583.33333333]\n",
      " [1666.66666667 1833.33333333 2000.         2166.66666667]\n",
      " [1250.         1416.66666667 1583.33333333 1750.        ]\n",
      " [ 833.33333333 1000.         1166.66666667 1333.33333333]\n",
      " [ 416.66666667  583.33333333  750.          916.66666667]]\n"
     ]
    }
   ],
   "source": [
    "# Calculate the monthly average sales for each restaurant\n",
    "# Divide the yearly sales data (columns 1 to end) by 12\n",
    "monthly_avg = sales_data[:, 1:] / 12\n",
    "\n",
    "# Print the calculated monthly average sales\n",
    "print(monthly_avg)"
   ]
  }
 ],
 "metadata": {
  "kernelspec": {
   "display_name": "env",
   "language": "python",
   "name": "python3"
  },
  "language_info": {
   "codemirror_mode": {
    "name": "ipython",
    "version": 3
   },
   "file_extension": ".py",
   "mimetype": "text/x-python",
   "name": "python",
   "nbconvert_exporter": "python",
   "pygments_lexer": "ipython3",
   "version": "3.12.3"
  }
 },
 "nbformat": 4,
 "nbformat_minor": 2
}
