{
 "cells": [
  {
   "cell_type": "markdown",
   "metadata": {},
   "source": [
    "---\n",
    "# Phase II : Numpy array operation\n",
    "---\n",
    "This notebook provides a comprehensive guide to various operations on NumPy arrays. It covers the following topics:\n",
    "\n",
    "1. **Numpy array slicing**:\n",
    "    - 1D array slicing: Demonstrates basic slicing, slicing with steps, and negative slicing.\n",
    "    - 2D array slicing: Shows how to access specific elements, entire rows, and entire columns.\n",
    "\n",
    "2. **Sorting the arrays**:\n",
    "    - Sorting a 1D array.\n",
    "    - Sorting a 2D array by rows and columns.\n",
    "\n",
    "3. **Filtering the arrays**:\n",
    "    - Normal filtering: Extracting even numbers from an array.\n",
    "    - Filtering with mask: Using a mask to filter elements less than 6.\n",
    "\n",
    "4. **Fancy indexing vs numpy.where()**:\n",
    "    - Fancy indexing: Accessing elements using a list of indices.\n",
    "    - `numpy.where()`: Using conditions to filter and modify array elements.\n",
    "\n",
    "5. **Adding and removing data**:\n",
    "    - Adding arrays: Demonstrates element-wise addition and concatenation.\n",
    "    - Adding rows and columns: Shows how to add new rows and columns to an array.\n",
    "    - Deleting rows and columns: Demonstrates how to delete specific rows and columns from an array.\n",
    "\n",
    "6. **Array compatibility**:\n",
    "    - Checking the compatibility of array shapes for operations."
   ]
  },
  {
   "cell_type": "code",
   "execution_count": 1,
   "metadata": {},
   "outputs": [],
   "source": [
    "import numpy as np"
   ]
  },
  {
   "cell_type": "markdown",
   "metadata": {},
   "source": [
    "---\n",
    "## Numpy array slicing :-\n",
    "---\n",
    "##### 1D array(vector) slicing :"
   ]
  },
  {
   "cell_type": "code",
   "execution_count": 2,
   "metadata": {},
   "outputs": [
    {
     "name": "stdout",
     "output_type": "stream",
     "text": [
      "Basic slicing [2 3 4 5]\n",
      "Slicing with steps [1 4]\n",
      "Negative slicing 4\n"
     ]
    }
   ],
   "source": [
    "arr = np.array([1,2,3,4,5,6,7,8])\n",
    "\n",
    "print(\"Basic slicing\", arr[1:5])         \n",
    "\n",
    "print(\"Slicing with steps\", arr[0:6:3])\n",
    "\n",
    "print(\"Negative slicing\", arr[-5])"
   ]
  },
  {
   "cell_type": "markdown",
   "metadata": {},
   "source": [
    "##### 2D array(matrix) slicing :"
   ]
  },
  {
   "cell_type": "code",
   "execution_count": 3,
   "metadata": {},
   "outputs": [
    {
     "name": "stdout",
     "output_type": "stream",
     "text": [
      "Specific element :  8\n",
      "Entire row :  [1 2 3 4]\n",
      "Entire column :  [4 8]\n"
     ]
    }
   ],
   "source": [
    "arr_2d = np.array([[1,2,3,4],\n",
    "                   [5,6,7,8]])\n",
    "\n",
    "print(\"Specific element : \", arr_2d[1,3])  \n",
    "\n",
    "print(\"Entire row : \", arr_2d[0])\n",
    "\n",
    "print(\"Entire column : \", arr_2d[:,3])     # : column represents all rows in that column,here its done to get only 3rd column"
   ]
  },
  {
   "cell_type": "markdown",
   "metadata": {},
   "source": [
    "---\n",
    "## Sorting the arrays :-\n",
    "---"
   ]
  },
  {
   "cell_type": "code",
   "execution_count": 4,
   "metadata": {},
   "outputs": [
    {
     "name": "stdout",
     "output_type": "stream",
     "text": [
      "Sorted array :  [1 2 2 3 4 4 5 5 5 6 7 8 8]\n",
      "Sorted 2D array by row : [[2 1]\n",
      " [4 1]\n",
      " [4 3]]\n",
      "Sorted 2D array by column : [[2 3]\n",
      " [1 4]\n",
      " [1 4]]\n"
     ]
    }
   ],
   "source": [
    "unsorted = np.array([6,4,5,3,7,5,2,5,8,8,4,2,1])\n",
    "\n",
    "print(\"Sorted array : \", np.sort(unsorted))                      # Sorts the array in ascending order\n",
    "\n",
    "arr_2d = np.array([[2,3],\n",
    "                   [4,1],\n",
    "                   [4,1]])\n",
    "\n",
    "print(\"Sorted 2D array by row :\", np.sort(arr_2d, axis=0))       # axis=0 represents row wise sorting\n",
    "print(\"Sorted 2D array by column :\", np.sort(arr_2d, axis=1))    # axis=1 represents column wise sorting"
   ]
  },
  {
   "cell_type": "markdown",
   "metadata": {},
   "source": [
    "---\n",
    "## Filtering the arrays :-\n",
    "---\n",
    "##### Normal filtering :"
   ]
  },
  {
   "cell_type": "code",
   "execution_count": 5,
   "metadata": {},
   "outputs": [
    {
     "name": "stdout",
     "output_type": "stream",
     "text": [
      "Even number :  [ 2  4  6  8 10]\n"
     ]
    }
   ],
   "source": [
    "num = np.array([1,2,3,4,5,6,7,8,9,10])\n",
    "\n",
    "even_num = num[num % 2 == 0]             # here we are giving condition instead of index as it is valid in numpy\n",
    "\n",
    "print(\"Even number : \", even_num)"
   ]
  },
  {
   "cell_type": "markdown",
   "metadata": {},
   "source": [
    "##### Filtering with mask :"
   ]
  },
  {
   "cell_type": "code",
   "execution_count": 6,
   "metadata": {},
   "outputs": [
    {
     "name": "stdout",
     "output_type": "stream",
     "text": [
      "number smaller than 6 are  [1 2 3 4 5]\n"
     ]
    }
   ],
   "source": [
    "mask = num < 6                           # mask is a boolean array which is used to filter the elements based on the condition\n",
    "\n",
    "print(\"number smaller than 6 are \", num[mask])"
   ]
  },
  {
   "cell_type": "markdown",
   "metadata": {},
   "source": [
    "---\n",
    "## Fancy indexing vs numpy.where() :-\n",
    "---"
   ]
  },
  {
   "cell_type": "code",
   "execution_count": 7,
   "metadata": {},
   "outputs": [
    {
     "name": "stdout",
     "output_type": "stream",
     "text": [
      "Indices are  [1 3 5]\n",
      "NP where  [1 2 3 4 5]\n",
      "[ 1  2  3  4  5 12 14 16 18 20]\n"
     ]
    }
   ],
   "source": [
    "indices = [0,2,4]\n",
    "print(\"Indices are \",num[indices])\n",
    "\n",
    "where_result = np.where(num < 6)                # where function returns the indices of the elements which satisfies the condition\n",
    "print(\"NP where \", num[where_result])\n",
    "\n",
    "condition_array = np.where(num > 5,num*2, num)  # where function can also be used to replace the elements based on the condition\n",
    "print(condition_array)\n"
   ]
  },
  {
   "cell_type": "markdown",
   "metadata": {},
   "source": [
    "### Difference between Normal Filtering, Filtering with Mask, and Using `numpy.where`\n",
    "\n",
    "1. **Normal Filtering**:\n",
    "    - Normal filtering involves directly applying a condition to the array to filter elements.\n",
    "\n",
    "2. **Filtering with Mask**:\n",
    "    - Filtering with a mask involves creating a boolean array (mask) that indicates which elements satisfy the condition.\n",
    "    - The mask is then used to filter the elements.\n",
    "\n",
    "3. **Using `numpy.where`**:\n",
    "    - `numpy.where` can be used to find the indices of elements that satisfy a condition or to replace elements based on a condition.\n"
   ]
  },
  {
   "cell_type": "markdown",
   "metadata": {},
   "source": [
    "---\n",
    "## Adding and removing data :-\n",
    "---"
   ]
  },
  {
   "cell_type": "code",
   "execution_count": 8,
   "metadata": {},
   "outputs": [
    {
     "name": "stdout",
     "output_type": "stream",
     "text": [
      "[5 7 9]\n",
      "[1 2 3 4 5 6]\n"
     ]
    }
   ],
   "source": [
    "arr1 = np.array([1,2,3])\n",
    "arr2 = np.array([4,5,6])\n",
    "\n",
    "not_combined = arr1 + arr2             # in numpy + operator dont concatenate the arrays, it adds the elements of the arrays\n",
    "print(not_combined)\n",
    "\n",
    "combined = np.concatenate((arr1,arr2)) # to concatenate the arrays we use concatenate function\n",
    "print(combined)             \n",
    "\n"
   ]
  },
  {
   "cell_type": "markdown",
   "metadata": {},
   "source": [
    "---\n",
    "## Array compatibilty :-\n",
    "---\n",
    "##### numpy.shape usecase :"
   ]
  },
  {
   "cell_type": "code",
   "execution_count": 9,
   "metadata": {},
   "outputs": [
    {
     "name": "stdout",
     "output_type": "stream",
     "text": [
      "Compatibity shape :  True\n"
     ]
    }
   ],
   "source": [
    "arr_1 = np.array([1,2,3,4])\n",
    "arr_2 = np.array([5,6,7,8])\n",
    "arr_3 = np.array([0,0,0,0])\n",
    "\n",
    "print(\"Compatibity shape : \", arr_1.shape == arr_2.shape) # numpy.shape returns the shape of the array"
   ]
  },
  {
   "cell_type": "markdown",
   "metadata": {},
   "source": [
    "\n",
    "##### Adding row or column in array :\n"
   ]
  },
  {
   "cell_type": "code",
   "execution_count": 10,
   "metadata": {},
   "outputs": [
    {
     "name": "stdout",
     "output_type": "stream",
     "text": [
      "Orginal Array : \n",
      " [[1 2]\n",
      " [3 4]]\n",
      "with new row : \n",
      " [[1 2]\n",
      " [3 4]\n",
      " [5 6]]\n",
      "Orginal Array : \n",
      " [[1 2]\n",
      " [3 4]]\n",
      "with new column : \n",
      " [[1 2 5]\n",
      " [3 4 6]]\n"
     ]
    }
   ],
   "source": [
    "orginal = np.array([[1,2],\n",
    "                    [3,4]])\n",
    "new_row = np.array([[5,6]])\n",
    "\n",
    "with_new_row = np.vstack((orginal,new_row))          # vstack is used to add new row to the array\n",
    "print(\"Orginal Array : \\n\", orginal)\n",
    "print(\"with new row : \\n\",with_new_row)\n",
    "\n",
    "new_column = np.array([[5],[6]])\n",
    "with_new_column = np.hstack((orginal,new_column))    # hstack is used to add new column to the array\n",
    "\n",
    "print(\"Orginal Array : \\n\",orginal)\n",
    "print(\"with new column : \\n\",with_new_column) \n"
   ]
  },
  {
   "cell_type": "markdown",
   "metadata": {},
   "source": [
    "\n",
    "##### Deleting the row or column from Array :\n"
   ]
  },
  {
   "cell_type": "code",
   "execution_count": 11,
   "metadata": {},
   "outputs": [
    {
     "name": "stdout",
     "output_type": "stream",
     "text": [
      "Array after deleting row 1:\n",
      " [[1 2]]\n",
      "Array after deleting column 1:\n",
      " [[1]\n",
      " [3]]\n"
     ]
    }
   ],
   "source": [
    "deleted_row = np.delete(orginal, 1, axis=0)            \n",
    "print(\"Array after deleting row 1:\\n\", deleted_row)\n",
    "\n",
    "# Deleting a column\n",
    "deleted_column = np.delete(orginal, 1, axis=1)\n",
    "print(\"Array after deleting column 1:\\n\", deleted_column)"
   ]
  }
 ],
 "metadata": {
  "kernelspec": {
   "display_name": "venv",
   "language": "python",
   "name": "python3"
  },
  "language_info": {
   "codemirror_mode": {
    "name": "ipython",
    "version": 3
   },
   "file_extension": ".py",
   "mimetype": "text/x-python",
   "name": "python",
   "nbconvert_exporter": "python",
   "pygments_lexer": "ipython3",
   "version": "3.13.2"
  }
 },
 "nbformat": 4,
 "nbformat_minor": 4
}
