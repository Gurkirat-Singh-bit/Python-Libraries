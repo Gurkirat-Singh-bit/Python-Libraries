{
 "cells": [
  {
   "cell_type": "markdown",
   "metadata": {},
   "source": [
    "---\n",
    "# Series obeject in pandas\n",
    "---"
   ]
  },
  {
   "cell_type": "markdown",
   "metadata": {},
   "source": [
    "---\n",
    "## Series Object in Pandas\n",
    "\n",
    "This notebook demonstrates how to work with Series objects in pandas, which are one-dimensional labeled arrays capable of holding any data type. \n",
    "\n",
    "We first import the pandas library, which is essential for data manipulation and analysis in Python. \n",
    "\n",
    "The notebook shows how to:\n",
    "\n",
    "1. Create a pandas Series from a list of numbers\n",
    "2. Check the data type of a Series object \n",
    "3. Customize a Series by assigning user-defined indices instead of the default numeric indices\n",
    "\n",
    "Series objects are fundamental building blocks in pandas and are similar to one-dimensional arrays with labeled indices, \n",
    "making data access more intuitive and flexible.\n",
    "\n",
    "---    "
   ]
  },
  {
   "cell_type": "code",
   "execution_count": 6,
   "metadata": {},
   "outputs": [],
   "source": [
    "import pandas as pd    # importing pandas library"
   ]
  },
  {
   "cell_type": "code",
   "execution_count": 7,
   "metadata": {},
   "outputs": [
    {
     "data": {
      "text/plain": [
       "0    1\n",
       "1    2\n",
       "2    3\n",
       "3    4\n",
       "4    5\n",
       "5    6\n",
       "6    7\n",
       "7    8\n",
       "dtype: int64"
      ]
     },
     "execution_count": 7,
     "metadata": {},
     "output_type": "execute_result"
    }
   ],
   "source": [
    "data = [1,2,3,4,5,6,7,8]  # creating a list\n",
    "series1 = pd.Series(data) # converting list to pandas Series\n",
    "series1                   # displaying the Series"
   ]
  },
  {
   "cell_type": "code",
   "execution_count": 8,
   "metadata": {},
   "outputs": [
    {
     "data": {
      "text/plain": [
       "pandas.core.series.Series"
      ]
     },
     "execution_count": 8,
     "metadata": {},
     "output_type": "execute_result"
    }
   ],
   "source": [
    "type(series1)  # checking the type of series1"
   ]
  },
  {
   "cell_type": "code",
   "execution_count": 9,
   "metadata": {},
   "outputs": [
    {
     "data": {
      "text/plain": [
       "a    1\n",
       "b    2\n",
       "c    3\n",
       "d    4\n",
       "e    5\n",
       "f    6\n",
       "g    7\n",
       "h    8\n",
       "dtype: int64"
      ]
     },
     "execution_count": 9,
     "metadata": {},
     "output_type": "execute_result"
    }
   ],
   "source": [
    "# changing the index of the Series object\n",
    "\n",
    "series1 = pd.Series(data,index=['a','b','c','d','e','f','g','h'])        # creating a new  Series object with custom index\n",
    "series1"
   ]
  },
  {
   "cell_type": "markdown",
   "metadata": {},
   "source": [
    "---"
   ]
  }
 ],
 "metadata": {
  "kernelspec": {
   "display_name": "env",
   "language": "python",
   "name": "python3"
  },
  "language_info": {
   "codemirror_mode": {
    "name": "ipython",
    "version": 3
   },
   "file_extension": ".py",
   "mimetype": "text/x-python",
   "name": "python",
   "nbconvert_exporter": "python",
   "pygments_lexer": "ipython3",
   "version": "3.12.3"
  }
 },
 "nbformat": 4,
 "nbformat_minor": 2
}
