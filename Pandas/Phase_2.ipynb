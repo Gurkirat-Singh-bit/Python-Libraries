{
 "cells": [
  {
   "cell_type": "markdown",
   "metadata": {},
   "source": [
    "---\n",
    "# Dataframes in Pandas\n",
    "---"
   ]
  },
  {
   "cell_type": "markdown",
   "metadata": {},
   "source": [
    "## Pandas DataFrame Explanation\n",
    "\n",
    "This notebook demonstrates different methods of creating DataFrames in pandas, one of the most commonly used data structures in Python for data analysis and manipulation.\n",
    "\n",
    "### Overview\n",
    "\n",
    "The notebook first imports the necessary libraries - pandas for data manipulation and numpy for numerical operations. It then showcases various ways to create pandas DataFrames from different data sources:\n",
    "\n",
    "1. **Creating DataFrame from a List**: \n",
    "    A simple list of numbers (1-8) is converted into a DataFrame. The resulting DataFrame has a single column with the list values.\n",
    "\n",
    "2. **Creating DataFrame from a Dictionary**:\n",
    "    A dictionary with keys as column names ('fruits' and 'count') and values as lists is converted to a DataFrame. The resulting DataFrame has 2 columns with fruit names and their corresponding counts.\n",
    "\n",
    "3. **Creating DataFrame from a Series**:\n",
    "    A pandas Series with machine part names as index and their values is converted to a DataFrame. The resulting DataFrame preserves the index from the Series as row labels.\n",
    "\n",
    "4. **Creating DataFrame from a NumPy Array**:\n",
    "    A 2D NumPy array containing salary values and names is used to create a DataFrame with specified column names ('name' and 'salary'). This demonstrates how to create a DataFrame with custom data and column names from a NumPy array.\n",
    "\n",
    "Each section builds upon the fundamental understanding of DataFrames, showing the versatility of pandas in handling different data structures for data analysis.\n",
    "\n",
    "---"
   ]
  },
  {
   "cell_type": "code",
   "execution_count": null,
   "metadata": {},
   "outputs": [],
   "source": [
    "import pandas as pd        # imporing pandas\n",
    "import numpy as np         # importing numpy"
   ]
  },
  {
   "cell_type": "markdown",
   "metadata": {},
   "source": [
    "---\n",
    "### Creating Dataframes\n",
    "---\n",
    "- creating Dataframe with list :-"
   ]
  },
  {
   "cell_type": "code",
   "execution_count": null,
   "metadata": {},
   "outputs": [],
   "source": [
    "data = [1,2,3,4,5,6,7,8]  # creating a list\n",
    "df =  pd.DataFrame(data)  # creating a DataFrame from the list\n",
    "\n",
    "df"
   ]
  },
  {
   "cell_type": "markdown",
   "metadata": {},
   "source": [
    "- Creating Dataframes with Dictionary :-"
   ]
  },
  {
   "cell_type": "code",
   "execution_count": null,
   "metadata": {},
   "outputs": [],
   "source": [
    "data_dict = {\"fruits\" : [\"mango\",\"strawberry\",\"apple\",\"grapes\"], # creaing a dictionary\n",
    "            \"count\": [12,14,2,43]}\n",
    "\n",
    "df = pd.DataFrame(data_dict)                                     # creating a DataFrame from the dictionary\n",
    "df"
   ]
  },
  {
   "cell_type": "markdown",
   "metadata": {},
   "source": [
    "- Creating Dataframe in Series :-"
   ]
  },
  {
   "cell_type": "code",
   "execution_count": null,
   "metadata": {},
   "outputs": [],
   "source": [
    "series = pd.Series([5595,6469],index=[\"machine_part 1\",\"machine_part 2\"]) # creating a Series\n",
    "df = pd.DataFrame(series)                     # creating a DataFrame from the Series\n",
    "df"
   ]
  },
  {
   "cell_type": "markdown",
   "metadata": {},
   "source": [
    "- Creating Dataframes with Numpy Array :-"
   ]
  },
  {
   "cell_type": "code",
   "execution_count": null,
   "metadata": {},
   "outputs": [],
   "source": [
    "numpyarray= np.array([[50000,80000]                         # creating a numpy array\n",
    "                     ,[\"gurkirat\",\"shubham\"]])\n",
    "\n",
    "df = pd.DataFrame({\"name\":numpyarray[1],\"salary\": numpyarray[0]})  # creating a DataFrame from the numpy array\n",
    "# print(df)\n",
    "df"
   ]
  },
  {
   "cell_type": "markdown",
   "metadata": {},
   "source": [
    "---"
   ]
  }
 ],
 "metadata": {
  "kernelspec": {
   "display_name": "env",
   "language": "python",
   "name": "python3"
  },
  "language_info": {
   "codemirror_mode": {
    "name": "ipython",
    "version": 3
   },
   "file_extension": ".py",
   "mimetype": "text/x-python",
   "name": "python",
   "nbconvert_exporter": "python",
   "pygments_lexer": "ipython3",
   "version": "3.12.3"
  }
 },
 "nbformat": 4,
 "nbformat_minor": 2
}
