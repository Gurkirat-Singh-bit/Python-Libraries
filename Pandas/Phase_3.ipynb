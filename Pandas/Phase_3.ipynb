{
 "cells": [
  {
   "cell_type": "markdown",
   "metadata": {},
   "source": [
    "---\n",
    "# Merge , Join and Concatenate \n",
    "---"
   ]
  },
  {
   "cell_type": "markdown",
   "metadata": {},
   "source": [
    "---\n",
    "## Understanding Merge, Join, and Concatenate in Pandas\n",
    "---\n",
    "In data analysis, combining datasets is a fundamental operation. Pandas provides three main methods for this: merge, join, and concatenate.\n",
    "\n",
    "### Merge\n",
    "\n",
    "Merge combines DataFrames based on common columns (similar to SQL joins). It aligns rows by matching values in specified columns.\n",
    "\n",
    "Key features:\n",
    "- Can combine DataFrames based on one or more keys\n",
    "- Supports different join types: inner, left, right, and outer\n",
    "- The \"on\" parameter specifies which column(s) to use for matching\n",
    "\n",
    "In our examples:\n",
    "- Inner merge (`how=\"inner\"`) keeps only rows that match in both DataFrames\n",
    "- Left merge (`how=\"left\"`) keeps all rows from the left DataFrame and matching rows from the right\n",
    "- Right merge (`how=\"right\"`) keeps all rows from the right DataFrame and matching rows from the left\n",
    "- Outer merge (`how=\"outer\"`) keeps all rows from both DataFrames\n",
    "\n",
    "### Join\n",
    "\n",
    "Join combines DataFrames based on their indexes rather than columns. It's especially useful when working with indexed data.\n",
    "\n",
    "Key differences from merge:\n",
    "- Primarily uses DataFrame indexes for alignment\n",
    "- More efficient when combining DataFrames with meaningful indexes\n",
    "\n",
    "In our examples:\n",
    "- Inner join keeps only rows with matching indexes\n",
    "- Left join keeps all rows from the left DataFrame\n",
    "- Right join keeps all rows from the right DataFrame\n",
    "- Outer join keeps all rows from both DataFrames\n",
    "\n",
    "### Concatenate\n",
    "\n",
    "Concatenate simply stacks DataFrames either vertically (default) or horizontally. It doesn't perform any matching but combines DataFrames as-is.\n",
    "\n",
    "Features:\n",
    "- Simpler than merge or join\n",
    "- Works like appending one DataFrame to another\n",
    "- Preserves indexes from original DataFrames\n",
    "\n",
    "When to use each:\n",
    "- Merge: When you need to combine based on column values\n",
    "- Join: When you need to combine based on indexes\n",
    "- Concatenate: When you simply need to stack DataFrames without matching values\n",
    "\n",
    "---"
   ]
  },
  {
   "cell_type": "code",
   "execution_count": 2,
   "metadata": {},
   "outputs": [],
   "source": [
    "import pandas as pd   # importing pandas"
   ]
  },
  {
   "cell_type": "code",
   "execution_count": 3,
   "metadata": {},
   "outputs": [
    {
     "data": {
      "text/html": [
       "<div>\n",
       "<style scoped>\n",
       "    .dataframe tbody tr th:only-of-type {\n",
       "        vertical-align: middle;\n",
       "    }\n",
       "\n",
       "    .dataframe tbody tr th {\n",
       "        vertical-align: top;\n",
       "    }\n",
       "\n",
       "    .dataframe thead th {\n",
       "        text-align: right;\n",
       "    }\n",
       "</style>\n",
       "<table border=\"1\" class=\"dataframe\">\n",
       "  <thead>\n",
       "    <tr style=\"text-align: right;\">\n",
       "      <th></th>\n",
       "      <th>player</th>\n",
       "      <th>Scores</th>\n",
       "      <th>title</th>\n",
       "    </tr>\n",
       "  </thead>\n",
       "  <tbody>\n",
       "    <tr>\n",
       "      <th>0</th>\n",
       "      <td>harshit</td>\n",
       "      <td>3</td>\n",
       "      <td>game1</td>\n",
       "    </tr>\n",
       "    <tr>\n",
       "      <th>1</th>\n",
       "      <td>shivam</td>\n",
       "      <td>4</td>\n",
       "      <td>game2</td>\n",
       "    </tr>\n",
       "    <tr>\n",
       "      <th>2</th>\n",
       "      <td>satyam</td>\n",
       "      <td>1</td>\n",
       "      <td>game3</td>\n",
       "    </tr>\n",
       "  </tbody>\n",
       "</table>\n",
       "</div>"
      ],
      "text/plain": [
       "    player  Scores  title\n",
       "0  harshit       3  game1\n",
       "1   shivam       4  game2\n",
       "2   satyam       1  game3"
      ]
     },
     "execution_count": 3,
     "metadata": {},
     "output_type": "execute_result"
    }
   ],
   "source": [
    "player = ['harshit','shivam','satyam']        # creating a list\n",
    "scores = [3,4,1]\n",
    "title = \"game1\",\"game2\",\"game3\"\n",
    "\n",
    "df1 = pd.DataFrame({\"player\" : player,\"Scores\":scores,\"title\": title}) # creating a DataFrame\n",
    "df1"
   ]
  },
  {
   "cell_type": "code",
   "execution_count": 4,
   "metadata": {},
   "outputs": [
    {
     "data": {
      "text/html": [
       "<div>\n",
       "<style scoped>\n",
       "    .dataframe tbody tr th:only-of-type {\n",
       "        vertical-align: middle;\n",
       "    }\n",
       "\n",
       "    .dataframe tbody tr th {\n",
       "        vertical-align: top;\n",
       "    }\n",
       "\n",
       "    .dataframe thead th {\n",
       "        text-align: right;\n",
       "    }\n",
       "</style>\n",
       "<table border=\"1\" class=\"dataframe\">\n",
       "  <thead>\n",
       "    <tr style=\"text-align: right;\">\n",
       "      <th></th>\n",
       "      <th>player</th>\n",
       "      <th>power</th>\n",
       "      <th>title</th>\n",
       "    </tr>\n",
       "  </thead>\n",
       "  <tbody>\n",
       "    <tr>\n",
       "      <th>0</th>\n",
       "      <td>amit</td>\n",
       "      <td>running</td>\n",
       "      <td>game3</td>\n",
       "    </tr>\n",
       "    <tr>\n",
       "      <th>1</th>\n",
       "      <td>harshit</td>\n",
       "      <td>running</td>\n",
       "      <td>game4</td>\n",
       "    </tr>\n",
       "    <tr>\n",
       "      <th>2</th>\n",
       "      <td>satyam</td>\n",
       "      <td>badminton</td>\n",
       "      <td>game1</td>\n",
       "    </tr>\n",
       "  </tbody>\n",
       "</table>\n",
       "</div>"
      ],
      "text/plain": [
       "    player      power  title\n",
       "0     amit    running  game3\n",
       "1  harshit    running  game4\n",
       "2   satyam  badminton  game1"
      ]
     },
     "execution_count": 4,
     "metadata": {},
     "output_type": "execute_result"
    }
   ],
   "source": [
    "player = ['amit','harshit','satyam']\n",
    "power = ['running','running','badminton']            # creating a list\n",
    "title = [\"game3\",\"game4\",\"game1\"]\n",
    "\n",
    "\n",
    "df2 = pd.DataFrame({\"player\": player,\"power\":power,\"title\":title})   # creating a DataFrame\n",
    "df2"
   ]
  },
  {
   "cell_type": "markdown",
   "metadata": {},
   "source": [
    "---\n",
    "## Merge in Pandas\n",
    "---"
   ]
  },
  {
   "cell_type": "markdown",
   "metadata": {},
   "source": [
    "- Inner merge :-"
   ]
  },
  {
   "cell_type": "code",
   "execution_count": null,
   "metadata": {},
   "outputs": [
    {
     "data": {
      "text/html": [
       "<div>\n",
       "<style scoped>\n",
       "    .dataframe tbody tr th:only-of-type {\n",
       "        vertical-align: middle;\n",
       "    }\n",
       "\n",
       "    .dataframe tbody tr th {\n",
       "        vertical-align: top;\n",
       "    }\n",
       "\n",
       "    .dataframe thead th {\n",
       "        text-align: right;\n",
       "    }\n",
       "</style>\n",
       "<table border=\"1\" class=\"dataframe\">\n",
       "  <thead>\n",
       "    <tr style=\"text-align: right;\">\n",
       "      <th></th>\n",
       "      <th>player_x</th>\n",
       "      <th>Scores</th>\n",
       "      <th>title</th>\n",
       "      <th>player_y</th>\n",
       "      <th>power</th>\n",
       "    </tr>\n",
       "  </thead>\n",
       "  <tbody>\n",
       "    <tr>\n",
       "      <th>0</th>\n",
       "      <td>harshit</td>\n",
       "      <td>3</td>\n",
       "      <td>game1</td>\n",
       "      <td>satyam</td>\n",
       "      <td>badminton</td>\n",
       "    </tr>\n",
       "    <tr>\n",
       "      <th>1</th>\n",
       "      <td>satyam</td>\n",
       "      <td>1</td>\n",
       "      <td>game3</td>\n",
       "      <td>amit</td>\n",
       "      <td>running</td>\n",
       "    </tr>\n",
       "  </tbody>\n",
       "</table>\n",
       "</div>"
      ],
      "text/plain": [
       "  player_x  Scores  title player_y      power\n",
       "0  harshit       3  game1   satyam  badminton\n",
       "1   satyam       1  game3     amit    running"
      ]
     },
     "execution_count": 5,
     "metadata": {},
     "output_type": "execute_result"
    }
   ],
   "source": [
    "df1.merge(df2, on=\"title\",how=\"inner\")                  # merging the DataFrames                                  "
   ]
  },
  {
   "cell_type": "markdown",
   "metadata": {},
   "source": [
    "- Left merge :-"
   ]
  },
  {
   "cell_type": "code",
   "execution_count": null,
   "metadata": {},
   "outputs": [
    {
     "data": {
      "text/html": [
       "<div>\n",
       "<style scoped>\n",
       "    .dataframe tbody tr th:only-of-type {\n",
       "        vertical-align: middle;\n",
       "    }\n",
       "\n",
       "    .dataframe tbody tr th {\n",
       "        vertical-align: top;\n",
       "    }\n",
       "\n",
       "    .dataframe thead th {\n",
       "        text-align: right;\n",
       "    }\n",
       "</style>\n",
       "<table border=\"1\" class=\"dataframe\">\n",
       "  <thead>\n",
       "    <tr style=\"text-align: right;\">\n",
       "      <th></th>\n",
       "      <th>player</th>\n",
       "      <th>Scores</th>\n",
       "      <th>title_x</th>\n",
       "      <th>power</th>\n",
       "      <th>title_y</th>\n",
       "    </tr>\n",
       "  </thead>\n",
       "  <tbody>\n",
       "    <tr>\n",
       "      <th>0</th>\n",
       "      <td>harshit</td>\n",
       "      <td>3</td>\n",
       "      <td>game1</td>\n",
       "      <td>running</td>\n",
       "      <td>game4</td>\n",
       "    </tr>\n",
       "    <tr>\n",
       "      <th>1</th>\n",
       "      <td>shivam</td>\n",
       "      <td>4</td>\n",
       "      <td>game2</td>\n",
       "      <td>NaN</td>\n",
       "      <td>NaN</td>\n",
       "    </tr>\n",
       "    <tr>\n",
       "      <th>2</th>\n",
       "      <td>satyam</td>\n",
       "      <td>1</td>\n",
       "      <td>game3</td>\n",
       "      <td>badminton</td>\n",
       "      <td>game1</td>\n",
       "    </tr>\n",
       "  </tbody>\n",
       "</table>\n",
       "</div>"
      ],
      "text/plain": [
       "    player  Scores title_x      power title_y\n",
       "0  harshit       3   game1    running   game4\n",
       "1   shivam       4   game2        NaN     NaN\n",
       "2   satyam       1   game3  badminton   game1"
      ]
     },
     "execution_count": 6,
     "metadata": {},
     "output_type": "execute_result"
    }
   ],
   "source": [
    "df1.merge(df2, on=\"player\" , how=\"left\")                # merging the DataFrames by left "
   ]
  },
  {
   "cell_type": "markdown",
   "metadata": {},
   "source": [
    "- Right merge :-"
   ]
  },
  {
   "cell_type": "code",
   "execution_count": null,
   "metadata": {},
   "outputs": [
    {
     "data": {
      "text/html": [
       "<div>\n",
       "<style scoped>\n",
       "    .dataframe tbody tr th:only-of-type {\n",
       "        vertical-align: middle;\n",
       "    }\n",
       "\n",
       "    .dataframe tbody tr th {\n",
       "        vertical-align: top;\n",
       "    }\n",
       "\n",
       "    .dataframe thead th {\n",
       "        text-align: right;\n",
       "    }\n",
       "</style>\n",
       "<table border=\"1\" class=\"dataframe\">\n",
       "  <thead>\n",
       "    <tr style=\"text-align: right;\">\n",
       "      <th></th>\n",
       "      <th>player</th>\n",
       "      <th>Scores</th>\n",
       "      <th>title_x</th>\n",
       "      <th>power</th>\n",
       "      <th>title_y</th>\n",
       "    </tr>\n",
       "  </thead>\n",
       "  <tbody>\n",
       "    <tr>\n",
       "      <th>0</th>\n",
       "      <td>amit</td>\n",
       "      <td>NaN</td>\n",
       "      <td>NaN</td>\n",
       "      <td>running</td>\n",
       "      <td>game3</td>\n",
       "    </tr>\n",
       "    <tr>\n",
       "      <th>1</th>\n",
       "      <td>harshit</td>\n",
       "      <td>3.0</td>\n",
       "      <td>game1</td>\n",
       "      <td>running</td>\n",
       "      <td>game4</td>\n",
       "    </tr>\n",
       "    <tr>\n",
       "      <th>2</th>\n",
       "      <td>satyam</td>\n",
       "      <td>1.0</td>\n",
       "      <td>game3</td>\n",
       "      <td>badminton</td>\n",
       "      <td>game1</td>\n",
       "    </tr>\n",
       "  </tbody>\n",
       "</table>\n",
       "</div>"
      ],
      "text/plain": [
       "    player  Scores title_x      power title_y\n",
       "0     amit     NaN     NaN    running   game3\n",
       "1  harshit     3.0   game1    running   game4\n",
       "2   satyam     1.0   game3  badminton   game1"
      ]
     },
     "execution_count": 7,
     "metadata": {},
     "output_type": "execute_result"
    }
   ],
   "source": [
    "df1.merge(df2, on=\"player\" , how=\"right\")               # merging the DataFrames by right"
   ]
  },
  {
   "cell_type": "markdown",
   "metadata": {},
   "source": [
    "- Outer merge :-"
   ]
  },
  {
   "cell_type": "code",
   "execution_count": null,
   "metadata": {},
   "outputs": [
    {
     "data": {
      "text/html": [
       "<div>\n",
       "<style scoped>\n",
       "    .dataframe tbody tr th:only-of-type {\n",
       "        vertical-align: middle;\n",
       "    }\n",
       "\n",
       "    .dataframe tbody tr th {\n",
       "        vertical-align: top;\n",
       "    }\n",
       "\n",
       "    .dataframe thead th {\n",
       "        text-align: right;\n",
       "    }\n",
       "</style>\n",
       "<table border=\"1\" class=\"dataframe\">\n",
       "  <thead>\n",
       "    <tr style=\"text-align: right;\">\n",
       "      <th></th>\n",
       "      <th>player</th>\n",
       "      <th>Scores</th>\n",
       "      <th>title_x</th>\n",
       "      <th>power</th>\n",
       "      <th>title_y</th>\n",
       "    </tr>\n",
       "  </thead>\n",
       "  <tbody>\n",
       "    <tr>\n",
       "      <th>0</th>\n",
       "      <td>amit</td>\n",
       "      <td>NaN</td>\n",
       "      <td>NaN</td>\n",
       "      <td>running</td>\n",
       "      <td>game3</td>\n",
       "    </tr>\n",
       "    <tr>\n",
       "      <th>1</th>\n",
       "      <td>harshit</td>\n",
       "      <td>3.0</td>\n",
       "      <td>game1</td>\n",
       "      <td>running</td>\n",
       "      <td>game4</td>\n",
       "    </tr>\n",
       "    <tr>\n",
       "      <th>2</th>\n",
       "      <td>satyam</td>\n",
       "      <td>1.0</td>\n",
       "      <td>game3</td>\n",
       "      <td>badminton</td>\n",
       "      <td>game1</td>\n",
       "    </tr>\n",
       "    <tr>\n",
       "      <th>3</th>\n",
       "      <td>shivam</td>\n",
       "      <td>4.0</td>\n",
       "      <td>game2</td>\n",
       "      <td>NaN</td>\n",
       "      <td>NaN</td>\n",
       "    </tr>\n",
       "  </tbody>\n",
       "</table>\n",
       "</div>"
      ],
      "text/plain": [
       "    player  Scores title_x      power title_y\n",
       "0     amit     NaN     NaN    running   game3\n",
       "1  harshit     3.0   game1    running   game4\n",
       "2   satyam     1.0   game3  badminton   game1\n",
       "3   shivam     4.0   game2        NaN     NaN"
      ]
     },
     "execution_count": 8,
     "metadata": {},
     "output_type": "execute_result"
    }
   ],
   "source": [
    "df1.merge(df2, on=\"player\" , how=\"outer\")               # merging the DataFrames by outer"
   ]
  },
  {
   "cell_type": "code",
   "execution_count": 9,
   "metadata": {},
   "outputs": [
    {
     "data": {
      "text/html": [
       "<div>\n",
       "<style scoped>\n",
       "    .dataframe tbody tr th:only-of-type {\n",
       "        vertical-align: middle;\n",
       "    }\n",
       "\n",
       "    .dataframe tbody tr th {\n",
       "        vertical-align: top;\n",
       "    }\n",
       "\n",
       "    .dataframe thead th {\n",
       "        text-align: right;\n",
       "    }\n",
       "</style>\n",
       "<table border=\"1\" class=\"dataframe\">\n",
       "  <thead>\n",
       "    <tr style=\"text-align: right;\">\n",
       "      <th></th>\n",
       "      <th>player</th>\n",
       "      <th>power</th>\n",
       "      <th>title</th>\n",
       "    </tr>\n",
       "  </thead>\n",
       "  <tbody>\n",
       "    <tr>\n",
       "      <th>L1</th>\n",
       "      <td>amit</td>\n",
       "      <td>running</td>\n",
       "      <td>game3</td>\n",
       "    </tr>\n",
       "    <tr>\n",
       "      <th>L2</th>\n",
       "      <td>harshit</td>\n",
       "      <td>running</td>\n",
       "      <td>game4</td>\n",
       "    </tr>\n",
       "    <tr>\n",
       "      <th>L3</th>\n",
       "      <td>satyam</td>\n",
       "      <td>badminton</td>\n",
       "      <td>game1</td>\n",
       "    </tr>\n",
       "  </tbody>\n",
       "</table>\n",
       "</div>"
      ],
      "text/plain": [
       "     player      power  title\n",
       "L1     amit    running  game3\n",
       "L2  harshit    running  game4\n",
       "L3   satyam  badminton  game1"
      ]
     },
     "execution_count": 9,
     "metadata": {},
     "output_type": "execute_result"
    }
   ],
   "source": [
    "player = ['amit','harshit','satyam']\n",
    "power = ['running','running','badminton']            # creating a list\n",
    "title = [\"game3\",\"game4\",\"game1\"]\n",
    "\n",
    "\n",
    "df3 = pd.DataFrame({\"player\": player,\"power\":power,\"title\":title}, index=[\"L1\",\"L2\",\"L3\"])      # creating a DataFrame with index\n",
    "df3"
   ]
  },
  {
   "cell_type": "code",
   "execution_count": 10,
   "metadata": {},
   "outputs": [
    {
     "data": {
      "text/html": [
       "<div>\n",
       "<style scoped>\n",
       "    .dataframe tbody tr th:only-of-type {\n",
       "        vertical-align: middle;\n",
       "    }\n",
       "\n",
       "    .dataframe tbody tr th {\n",
       "        vertical-align: top;\n",
       "    }\n",
       "\n",
       "    .dataframe thead th {\n",
       "        text-align: right;\n",
       "    }\n",
       "</style>\n",
       "<table border=\"1\" class=\"dataframe\">\n",
       "  <thead>\n",
       "    <tr style=\"text-align: right;\">\n",
       "      <th></th>\n",
       "      <th>players</th>\n",
       "      <th>Scores</th>\n",
       "      <th>titles</th>\n",
       "    </tr>\n",
       "  </thead>\n",
       "  <tbody>\n",
       "    <tr>\n",
       "      <th>L3</th>\n",
       "      <td>gurkirat</td>\n",
       "      <td>3</td>\n",
       "      <td>game6</td>\n",
       "    </tr>\n",
       "    <tr>\n",
       "      <th>L4</th>\n",
       "      <td>shivam</td>\n",
       "      <td>4</td>\n",
       "      <td>game2</td>\n",
       "    </tr>\n",
       "    <tr>\n",
       "      <th>L5</th>\n",
       "      <td>satyam</td>\n",
       "      <td>1</td>\n",
       "      <td>game5</td>\n",
       "    </tr>\n",
       "  </tbody>\n",
       "</table>\n",
       "</div>"
      ],
      "text/plain": [
       "     players  Scores titles\n",
       "L3  gurkirat       3  game6\n",
       "L4    shivam       4  game2\n",
       "L5    satyam       1  game5"
      ]
     },
     "execution_count": 10,
     "metadata": {},
     "output_type": "execute_result"
    }
   ],
   "source": [
    "players = ['gurkirat','shivam','satyam']\n",
    "scores = [3,4,1]                                     # creating a list\n",
    "title = \"game6\",\"game2\",\"game5\"\n",
    "df4 = pd.DataFrame({\"players\" : players,\"Scores\":scores,\"titles\": title},index=[\"L3\",\"L4\",\"L5\"]) # creating a DataFrame with index\n",
    "df4"
   ]
  },
  {
   "cell_type": "markdown",
   "metadata": {},
   "source": [
    "---\n",
    "### Join in Pandas\n",
    "---"
   ]
  },
  {
   "cell_type": "markdown",
   "metadata": {},
   "source": [
    "- Inner Join :-"
   ]
  },
  {
   "cell_type": "code",
   "execution_count": null,
   "metadata": {},
   "outputs": [
    {
     "data": {
      "text/html": [
       "<div>\n",
       "<style scoped>\n",
       "    .dataframe tbody tr th:only-of-type {\n",
       "        vertical-align: middle;\n",
       "    }\n",
       "\n",
       "    .dataframe tbody tr th {\n",
       "        vertical-align: top;\n",
       "    }\n",
       "\n",
       "    .dataframe thead th {\n",
       "        text-align: right;\n",
       "    }\n",
       "</style>\n",
       "<table border=\"1\" class=\"dataframe\">\n",
       "  <thead>\n",
       "    <tr style=\"text-align: right;\">\n",
       "      <th></th>\n",
       "      <th>player</th>\n",
       "      <th>power</th>\n",
       "      <th>title</th>\n",
       "      <th>players</th>\n",
       "      <th>Scores</th>\n",
       "      <th>titles</th>\n",
       "    </tr>\n",
       "  </thead>\n",
       "  <tbody>\n",
       "    <tr>\n",
       "      <th>L3</th>\n",
       "      <td>satyam</td>\n",
       "      <td>badminton</td>\n",
       "      <td>game1</td>\n",
       "      <td>gurkirat</td>\n",
       "      <td>3</td>\n",
       "      <td>game6</td>\n",
       "    </tr>\n",
       "  </tbody>\n",
       "</table>\n",
       "</div>"
      ],
      "text/plain": [
       "    player      power  title   players  Scores titles\n",
       "L3  satyam  badminton  game1  gurkirat       3  game6"
      ]
     },
     "execution_count": 11,
     "metadata": {},
     "output_type": "execute_result"
    }
   ],
   "source": [
    "df3.join(df4, how=\"inner\")                   # joining the DataFrames"
   ]
  },
  {
   "cell_type": "markdown",
   "metadata": {},
   "source": [
    "- Left join :-"
   ]
  },
  {
   "cell_type": "code",
   "execution_count": null,
   "metadata": {},
   "outputs": [
    {
     "data": {
      "text/html": [
       "<div>\n",
       "<style scoped>\n",
       "    .dataframe tbody tr th:only-of-type {\n",
       "        vertical-align: middle;\n",
       "    }\n",
       "\n",
       "    .dataframe tbody tr th {\n",
       "        vertical-align: top;\n",
       "    }\n",
       "\n",
       "    .dataframe thead th {\n",
       "        text-align: right;\n",
       "    }\n",
       "</style>\n",
       "<table border=\"1\" class=\"dataframe\">\n",
       "  <thead>\n",
       "    <tr style=\"text-align: right;\">\n",
       "      <th></th>\n",
       "      <th>player</th>\n",
       "      <th>power</th>\n",
       "      <th>title</th>\n",
       "      <th>players</th>\n",
       "      <th>Scores</th>\n",
       "      <th>titles</th>\n",
       "    </tr>\n",
       "  </thead>\n",
       "  <tbody>\n",
       "    <tr>\n",
       "      <th>L1</th>\n",
       "      <td>amit</td>\n",
       "      <td>running</td>\n",
       "      <td>game3</td>\n",
       "      <td>NaN</td>\n",
       "      <td>NaN</td>\n",
       "      <td>NaN</td>\n",
       "    </tr>\n",
       "    <tr>\n",
       "      <th>L2</th>\n",
       "      <td>harshit</td>\n",
       "      <td>running</td>\n",
       "      <td>game4</td>\n",
       "      <td>NaN</td>\n",
       "      <td>NaN</td>\n",
       "      <td>NaN</td>\n",
       "    </tr>\n",
       "    <tr>\n",
       "      <th>L3</th>\n",
       "      <td>satyam</td>\n",
       "      <td>badminton</td>\n",
       "      <td>game1</td>\n",
       "      <td>gurkirat</td>\n",
       "      <td>3.0</td>\n",
       "      <td>game6</td>\n",
       "    </tr>\n",
       "  </tbody>\n",
       "</table>\n",
       "</div>"
      ],
      "text/plain": [
       "     player      power  title   players  Scores titles\n",
       "L1     amit    running  game3       NaN     NaN    NaN\n",
       "L2  harshit    running  game4       NaN     NaN    NaN\n",
       "L3   satyam  badminton  game1  gurkirat     3.0  game6"
      ]
     },
     "execution_count": 12,
     "metadata": {},
     "output_type": "execute_result"
    }
   ],
   "source": [
    "df3.join(df4, how=\"left\")                    # joining the DataFrames by left"
   ]
  },
  {
   "cell_type": "markdown",
   "metadata": {},
   "source": [
    "- Right join :-"
   ]
  },
  {
   "cell_type": "code",
   "execution_count": null,
   "metadata": {},
   "outputs": [
    {
     "data": {
      "text/html": [
       "<div>\n",
       "<style scoped>\n",
       "    .dataframe tbody tr th:only-of-type {\n",
       "        vertical-align: middle;\n",
       "    }\n",
       "\n",
       "    .dataframe tbody tr th {\n",
       "        vertical-align: top;\n",
       "    }\n",
       "\n",
       "    .dataframe thead th {\n",
       "        text-align: right;\n",
       "    }\n",
       "</style>\n",
       "<table border=\"1\" class=\"dataframe\">\n",
       "  <thead>\n",
       "    <tr style=\"text-align: right;\">\n",
       "      <th></th>\n",
       "      <th>player</th>\n",
       "      <th>power</th>\n",
       "      <th>title</th>\n",
       "      <th>players</th>\n",
       "      <th>Scores</th>\n",
       "      <th>titles</th>\n",
       "    </tr>\n",
       "  </thead>\n",
       "  <tbody>\n",
       "    <tr>\n",
       "      <th>L3</th>\n",
       "      <td>satyam</td>\n",
       "      <td>badminton</td>\n",
       "      <td>game1</td>\n",
       "      <td>gurkirat</td>\n",
       "      <td>3</td>\n",
       "      <td>game6</td>\n",
       "    </tr>\n",
       "    <tr>\n",
       "      <th>L4</th>\n",
       "      <td>NaN</td>\n",
       "      <td>NaN</td>\n",
       "      <td>NaN</td>\n",
       "      <td>shivam</td>\n",
       "      <td>4</td>\n",
       "      <td>game2</td>\n",
       "    </tr>\n",
       "    <tr>\n",
       "      <th>L5</th>\n",
       "      <td>NaN</td>\n",
       "      <td>NaN</td>\n",
       "      <td>NaN</td>\n",
       "      <td>satyam</td>\n",
       "      <td>1</td>\n",
       "      <td>game5</td>\n",
       "    </tr>\n",
       "  </tbody>\n",
       "</table>\n",
       "</div>"
      ],
      "text/plain": [
       "    player      power  title   players  Scores titles\n",
       "L3  satyam  badminton  game1  gurkirat       3  game6\n",
       "L4     NaN        NaN    NaN    shivam       4  game2\n",
       "L5     NaN        NaN    NaN    satyam       1  game5"
      ]
     },
     "execution_count": 13,
     "metadata": {},
     "output_type": "execute_result"
    }
   ],
   "source": [
    "df3.join(df4, how=\"right\")                    # joining the DataFrames by right"
   ]
  },
  {
   "cell_type": "markdown",
   "metadata": {},
   "source": [
    "- Outer join :-"
   ]
  },
  {
   "cell_type": "code",
   "execution_count": null,
   "metadata": {},
   "outputs": [
    {
     "data": {
      "text/html": [
       "<div>\n",
       "<style scoped>\n",
       "    .dataframe tbody tr th:only-of-type {\n",
       "        vertical-align: middle;\n",
       "    }\n",
       "\n",
       "    .dataframe tbody tr th {\n",
       "        vertical-align: top;\n",
       "    }\n",
       "\n",
       "    .dataframe thead th {\n",
       "        text-align: right;\n",
       "    }\n",
       "</style>\n",
       "<table border=\"1\" class=\"dataframe\">\n",
       "  <thead>\n",
       "    <tr style=\"text-align: right;\">\n",
       "      <th></th>\n",
       "      <th>player</th>\n",
       "      <th>power</th>\n",
       "      <th>title</th>\n",
       "      <th>players</th>\n",
       "      <th>Scores</th>\n",
       "      <th>titles</th>\n",
       "    </tr>\n",
       "  </thead>\n",
       "  <tbody>\n",
       "    <tr>\n",
       "      <th>L1</th>\n",
       "      <td>amit</td>\n",
       "      <td>running</td>\n",
       "      <td>game3</td>\n",
       "      <td>NaN</td>\n",
       "      <td>NaN</td>\n",
       "      <td>NaN</td>\n",
       "    </tr>\n",
       "    <tr>\n",
       "      <th>L2</th>\n",
       "      <td>harshit</td>\n",
       "      <td>running</td>\n",
       "      <td>game4</td>\n",
       "      <td>NaN</td>\n",
       "      <td>NaN</td>\n",
       "      <td>NaN</td>\n",
       "    </tr>\n",
       "    <tr>\n",
       "      <th>L3</th>\n",
       "      <td>satyam</td>\n",
       "      <td>badminton</td>\n",
       "      <td>game1</td>\n",
       "      <td>gurkirat</td>\n",
       "      <td>3.0</td>\n",
       "      <td>game6</td>\n",
       "    </tr>\n",
       "    <tr>\n",
       "      <th>L4</th>\n",
       "      <td>NaN</td>\n",
       "      <td>NaN</td>\n",
       "      <td>NaN</td>\n",
       "      <td>shivam</td>\n",
       "      <td>4.0</td>\n",
       "      <td>game2</td>\n",
       "    </tr>\n",
       "    <tr>\n",
       "      <th>L5</th>\n",
       "      <td>NaN</td>\n",
       "      <td>NaN</td>\n",
       "      <td>NaN</td>\n",
       "      <td>satyam</td>\n",
       "      <td>1.0</td>\n",
       "      <td>game5</td>\n",
       "    </tr>\n",
       "  </tbody>\n",
       "</table>\n",
       "</div>"
      ],
      "text/plain": [
       "     player      power  title   players  Scores titles\n",
       "L1     amit    running  game3       NaN     NaN    NaN\n",
       "L2  harshit    running  game4       NaN     NaN    NaN\n",
       "L3   satyam  badminton  game1  gurkirat     3.0  game6\n",
       "L4      NaN        NaN    NaN    shivam     4.0  game2\n",
       "L5      NaN        NaN    NaN    satyam     1.0  game5"
      ]
     },
     "execution_count": 14,
     "metadata": {},
     "output_type": "execute_result"
    }
   ],
   "source": [
    "df3.join(df4, how=\"outer\")                    # joining the DataFrames by outer"
   ]
  },
  {
   "cell_type": "markdown",
   "metadata": {},
   "source": [
    "---\n",
    "### Concatenate in Pandas\n",
    "---\n"
   ]
  },
  {
   "cell_type": "code",
   "execution_count": null,
   "metadata": {},
   "outputs": [
    {
     "data": {
      "text/html": [
       "<div>\n",
       "<style scoped>\n",
       "    .dataframe tbody tr th:only-of-type {\n",
       "        vertical-align: middle;\n",
       "    }\n",
       "\n",
       "    .dataframe tbody tr th {\n",
       "        vertical-align: top;\n",
       "    }\n",
       "\n",
       "    .dataframe thead th {\n",
       "        text-align: right;\n",
       "    }\n",
       "</style>\n",
       "<table border=\"1\" class=\"dataframe\">\n",
       "  <thead>\n",
       "    <tr style=\"text-align: right;\">\n",
       "      <th></th>\n",
       "      <th>player</th>\n",
       "      <th>power</th>\n",
       "      <th>title</th>\n",
       "      <th>players</th>\n",
       "      <th>Scores</th>\n",
       "      <th>titles</th>\n",
       "    </tr>\n",
       "  </thead>\n",
       "  <tbody>\n",
       "    <tr>\n",
       "      <th>L1</th>\n",
       "      <td>amit</td>\n",
       "      <td>running</td>\n",
       "      <td>game3</td>\n",
       "      <td>NaN</td>\n",
       "      <td>NaN</td>\n",
       "      <td>NaN</td>\n",
       "    </tr>\n",
       "    <tr>\n",
       "      <th>L2</th>\n",
       "      <td>harshit</td>\n",
       "      <td>running</td>\n",
       "      <td>game4</td>\n",
       "      <td>NaN</td>\n",
       "      <td>NaN</td>\n",
       "      <td>NaN</td>\n",
       "    </tr>\n",
       "    <tr>\n",
       "      <th>L3</th>\n",
       "      <td>satyam</td>\n",
       "      <td>badminton</td>\n",
       "      <td>game1</td>\n",
       "      <td>NaN</td>\n",
       "      <td>NaN</td>\n",
       "      <td>NaN</td>\n",
       "    </tr>\n",
       "    <tr>\n",
       "      <th>L3</th>\n",
       "      <td>NaN</td>\n",
       "      <td>NaN</td>\n",
       "      <td>NaN</td>\n",
       "      <td>gurkirat</td>\n",
       "      <td>3.0</td>\n",
       "      <td>game6</td>\n",
       "    </tr>\n",
       "    <tr>\n",
       "      <th>L4</th>\n",
       "      <td>NaN</td>\n",
       "      <td>NaN</td>\n",
       "      <td>NaN</td>\n",
       "      <td>shivam</td>\n",
       "      <td>4.0</td>\n",
       "      <td>game2</td>\n",
       "    </tr>\n",
       "    <tr>\n",
       "      <th>L5</th>\n",
       "      <td>NaN</td>\n",
       "      <td>NaN</td>\n",
       "      <td>NaN</td>\n",
       "      <td>satyam</td>\n",
       "      <td>1.0</td>\n",
       "      <td>game5</td>\n",
       "    </tr>\n",
       "  </tbody>\n",
       "</table>\n",
       "</div>"
      ],
      "text/plain": [
       "     player      power  title   players  Scores titles\n",
       "L1     amit    running  game3       NaN     NaN    NaN\n",
       "L2  harshit    running  game4       NaN     NaN    NaN\n",
       "L3   satyam  badminton  game1       NaN     NaN    NaN\n",
       "L3      NaN        NaN    NaN  gurkirat     3.0  game6\n",
       "L4      NaN        NaN    NaN    shivam     4.0  game2\n",
       "L5      NaN        NaN    NaN    satyam     1.0  game5"
      ]
     },
     "execution_count": 15,
     "metadata": {},
     "output_type": "execute_result"
    }
   ],
   "source": [
    "pd.concat([df3,df4])                         # concatenating the DataFrames"
   ]
  },
  {
   "cell_type": "markdown",
   "metadata": {},
   "source": [
    "---"
   ]
  }
 ],
 "metadata": {
  "kernelspec": {
   "display_name": "env",
   "language": "python",
   "name": "python3"
  },
  "language_info": {
   "codemirror_mode": {
    "name": "ipython",
    "version": 3
   },
   "file_extension": ".py",
   "mimetype": "text/x-python",
   "name": "python",
   "nbconvert_exporter": "python",
   "pygments_lexer": "ipython3",
   "version": "3.12.3"
  }
 },
 "nbformat": 4,
 "nbformat_minor": 2
}
